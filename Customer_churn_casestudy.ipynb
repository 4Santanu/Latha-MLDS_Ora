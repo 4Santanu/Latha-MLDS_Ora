{
 "cells": [
  {
   "cell_type": "markdown",
   "id": "66b30cf9-e670-4eb5-8b4f-e644d647a058",
   "metadata": {},
   "source": [
    "## 1.) Problem Description "
   ]
  },
  {
   "cell_type": "markdown",
   "id": "2cbb3dc5-9a10-445d-ab35-66180352602c",
   "metadata": {},
   "source": [
    "### 1.1) Customer churn\n",
    "- Customer churn is a term used when a customer decides to stop using the services of the business.\n",
    "- We need to use the available data to train machine learning model of high accuracy that will predict which customers are about to churn, which will enable the primary stakeholders in making useful marketing decisions."
   ]
  },
  {
   "cell_type": "markdown",
   "id": "c4f914cd-e5c5-4867-abff-7705b74a0896",
   "metadata": {},
   "source": [
    "- \"state\", string. 2-letter code of the US state of customer residence \n",
    "- \"account_length\", numerical. Number of months the customer has been with the current telco provider\n",
    "- \"area_code\", string = \"area_code_AAA\" where AAA = 3 digit area code.\n",
    "- \"international_plan\", . The customer has international plan.\n",
    "- \"voice_mail_plan\", . The customer has voice mail plan.\n",
    "- \"number_vmail_messages\", numerical. Number of voice-mail messages.\n",
    "- \"total_day_minutes\", numerical. Total minutes of day calls.\n",
    "- \"total_day_calls\", numerical. Total minutes of day calls.\n",
    "- \"total_day_charge\", numerical. Total charge of day calls.\n",
    "- \"total_eve_minutes\", numerical. Total minutes of evening calls.\n",
    "- \"total_eve_calls\", numerical. Total number of evening calls.\n",
    "- \"total_eve_charge\", numerical. Total charge of evening calls.\n",
    "- \"total_night_minutes\", numerical. Total minutes of night calls.\n",
    "- \"total_night_calls\", numerical. Total number of night calls.\n",
    "- \"total_night_charge\", numerical. Total charge of night calls.\n",
    "- \"total_intl_minutes\", numerical. Total minutes of international calls.\n",
    "- \"total_intl_calls\", numerical. Total number of international calls.\n",
    "- \"total_intl_charge\", numerical. Total charge of international calls\n",
    "- \"number_customer_service_calls\", numerical. Number of calls to customer service\n",
    "- \"churn\", . Customer churn - target variable."
   ]
  },
  {
   "cell_type": "markdown",
   "id": "977feda9-2a27-468f-9f8f-0a8946b63175",
   "metadata": {},
   "source": [
    "2.) Import relevant Libraries/packages"
   ]
  },
  {
   "cell_type": "code",
   "execution_count": null,
   "id": "03f4d137-b950-40ad-8837-0db37cf80a30",
   "metadata": {},
   "outputs": [],
   "source": []
  },
  {
   "cell_type": "markdown",
   "id": "0eb8daa4-3f61-421c-8ca0-0401ade0cc20",
   "metadata": {},
   "source": [
    "### Loading the Data"
   ]
  },
  {
   "cell_type": "code",
   "execution_count": null,
   "id": "a856910a-0563-4ff7-b63a-642f2135b5b8",
   "metadata": {},
   "outputs": [],
   "source": []
  },
  {
   "cell_type": "markdown",
   "id": "ae6f2dcb-c963-4c77-a12f-a229aabe6a0e",
   "metadata": {},
   "source": [
    "### High level statistics of Numerical features"
   ]
  },
  {
   "cell_type": "code",
   "execution_count": null,
   "id": "3a05bb11-da3e-4b5e-88f1-b9891590e846",
   "metadata": {},
   "outputs": [],
   "source": []
  },
  {
   "cell_type": "markdown",
   "id": "c2f7841a-e914-43d0-a649-608225bffaa9",
   "metadata": {},
   "source": [
    "### Take a look at dataframe shape"
   ]
  },
  {
   "cell_type": "code",
   "execution_count": null,
   "id": "752e7693-de6a-4918-8abf-f7f361e140f5",
   "metadata": {},
   "outputs": [],
   "source": []
  },
  {
   "cell_type": "markdown",
   "id": "d4b1c8f6-eb79-4cc8-92e3-b7ae34b96d09",
   "metadata": {},
   "source": [
    "### How many customers have churned?"
   ]
  },
  {
   "cell_type": "code",
   "execution_count": null,
   "id": "9d958338-7e69-42a2-af79-2344ada6675d",
   "metadata": {},
   "outputs": [],
   "source": []
  },
  {
   "cell_type": "markdown",
   "id": "4c077191-cedd-40a0-9bc9-516eeae46cae",
   "metadata": {},
   "source": [
    "### Data is balanced or imbalanced???"
   ]
  },
  {
   "cell_type": "code",
   "execution_count": null,
   "id": "56861720-b6f3-45fc-9a14-2317ee52ed7c",
   "metadata": {},
   "outputs": [],
   "source": []
  },
  {
   "cell_type": "markdown",
   "id": "5833a845-00c4-4bac-945c-220551cefd91",
   "metadata": {},
   "source": [
    "### Show with the visualization"
   ]
  },
  {
   "cell_type": "code",
   "execution_count": null,
   "id": "33c33218-c04d-4bf3-a2df-d1f4e18a1e84",
   "metadata": {},
   "outputs": [],
   "source": []
  },
  {
   "cell_type": "markdown",
   "id": "3d354d88-755b-4a61-b68f-7613cdb47097",
   "metadata": {},
   "source": [
    "### Explore all data visualization "
   ]
  },
  {
   "cell_type": "code",
   "execution_count": null,
   "id": "8387e1c8-0f2a-45e0-a782-5ce0dcae36d2",
   "metadata": {},
   "outputs": [],
   "source": []
  },
  {
   "cell_type": "markdown",
   "id": "2f5e4b64-9b42-4d59-bf60-b6e61061b9df",
   "metadata": {},
   "source": [
    "### Correlation"
   ]
  },
  {
   "cell_type": "code",
   "execution_count": null,
   "id": "ef09bd62-2a9f-4b17-a91f-af10549d5876",
   "metadata": {},
   "outputs": [],
   "source": []
  },
  {
   "cell_type": "markdown",
   "id": "ffef9775-b0a2-42d4-85a5-bad336b301b5",
   "metadata": {},
   "source": [
    "### In Dependent variable column change yes to 1 and no to 0"
   ]
  },
  {
   "cell_type": "code",
   "execution_count": null,
   "id": "3b3cbbf9-b171-4f8f-b648-d0755b9a5d39",
   "metadata": {},
   "outputs": [],
   "source": []
  },
  {
   "cell_type": "markdown",
   "id": "755dacd8-3747-40b6-9c20-4577354e74d9",
   "metadata": {},
   "source": [
    "### Data Preparation"
   ]
  },
  {
   "cell_type": "code",
   "execution_count": null,
   "id": "9dd4c35c-4e83-46bf-90e5-2a0df9359f24",
   "metadata": {},
   "outputs": [],
   "source": []
  },
  {
   "cell_type": "markdown",
   "id": "2ca6b2f9-7eb5-47b1-b45d-790f3b1e570b",
   "metadata": {},
   "source": [
    "### Model Building"
   ]
  },
  {
   "cell_type": "code",
   "execution_count": null,
   "id": "840369ef-2c15-4d52-9843-6562c27219d9",
   "metadata": {},
   "outputs": [],
   "source": []
  },
  {
   "cell_type": "markdown",
   "id": "4d054e47-35d6-48dc-ad46-fb0ce0e9cb70",
   "metadata": {},
   "source": [
    "### Evaluation"
   ]
  },
  {
   "cell_type": "code",
   "execution_count": null,
   "id": "661b5290-fd75-4618-bb1b-1b427399b758",
   "metadata": {},
   "outputs": [],
   "source": []
  }
 ],
 "metadata": {
  "kernelspec": {
   "display_name": "Python 3 (ipykernel)",
   "language": "python",
   "name": "python3"
  },
  "language_info": {
   "codemirror_mode": {
    "name": "ipython",
    "version": 3
   },
   "file_extension": ".py",
   "mimetype": "text/x-python",
   "name": "python",
   "nbconvert_exporter": "python",
   "pygments_lexer": "ipython3",
   "version": "3.11.7"
  }
 },
 "nbformat": 4,
 "nbformat_minor": 5
}
